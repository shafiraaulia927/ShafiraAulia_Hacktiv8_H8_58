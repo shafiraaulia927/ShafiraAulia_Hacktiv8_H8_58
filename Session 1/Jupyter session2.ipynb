{
 "cells": [
  {
   "cell_type": "code",
   "execution_count": 18,
   "id": "0b72f388",
   "metadata": {},
   "outputs": [
    {
     "name": "stdout",
     "output_type": "stream",
     "text": [
      "masukkan angka: 1\n",
      "ganjil\n"
     ]
    }
   ],
   "source": [
    "bilangan = int(input('masukkan angka: '))\n",
    "\n",
    "if bilangan %2 == 0:\n",
    "    print ('genap')\n",
    "else:\n",
    "    print('ganjil')\n"
   ]
  },
  {
   "cell_type": "code",
   "execution_count": 29,
   "id": "7ab1cd38",
   "metadata": {},
   "outputs": [
    {
     "name": "stdout",
     "output_type": "stream",
     "text": [
      "masukkan nilai: 80\n",
      "Nilai 80 = A-\n"
     ]
    }
   ],
   "source": [
    "nilai = int(input('masukkan nilai: '))\n",
    "\n",
    "hasil = 0\n",
    "if nilai <= 100 and nilai >= 85:\n",
    "    hasil = 'A'\n",
    "if nilai < 85 and nilai >= 80:\n",
    "    hasil = 'A-'\n",
    "if nilai < 79 and nilai >= 75: \n",
    "    hasil = 'B+'\n",
    "if nilai < 74 and nilai >= 70: \n",
    "    hasil = 'B'\n",
    "if nilai < 69 and nilai >= 65: \n",
    "    hasil = 'B-'\n",
    "if nilai < 64 and nilai >= 60:\n",
    "    hasil = 'C+'\n",
    "if nilai < 59 and nilai >= 55:\n",
    "    hasil = 'C'\n",
    "if nilai < 54 :\n",
    "    hasil = 'D'\n",
    "    \n",
    "print('Nilai {} = {}'.format(nilai,hasil))\n"
   ]
  },
  {
   "cell_type": "code",
   "execution_count": 31,
   "id": "696a805f",
   "metadata": {},
   "outputs": [
    {
     "name": "stdout",
     "output_type": "stream",
     "text": [
      "masukkan nilai8\n",
      "1\n",
      "2\n",
      "4\n"
     ]
    }
   ],
   "source": [
    "x = int(input('masukkan nilai: '))\n",
    "y = 1\n",
    "\n",
    "while y < x:\n",
    "    if (x%y == 0):\n",
    "        print(y)\n",
    "    y = y+1"
   ]
  },
  {
   "cell_type": "code",
   "execution_count": null,
   "id": "f1b93631",
   "metadata": {},
   "outputs": [],
   "source": []
  },
  {
   "cell_type": "code",
   "execution_count": null,
   "id": "2050da9b",
   "metadata": {},
   "outputs": [],
   "source": []
  },
  {
   "cell_type": "code",
   "execution_count": null,
   "id": "2353b754",
   "metadata": {},
   "outputs": [],
   "source": []
  }
 ],
 "metadata": {
  "kernelspec": {
   "display_name": "Python 3",
   "language": "python",
   "name": "python3"
  },
  "language_info": {
   "codemirror_mode": {
    "name": "ipython",
    "version": 3
   },
   "file_extension": ".py",
   "mimetype": "text/x-python",
   "name": "python",
   "nbconvert_exporter": "python",
   "pygments_lexer": "ipython3",
   "version": "3.8.8"
  }
 },
 "nbformat": 4,
 "nbformat_minor": 5
}
