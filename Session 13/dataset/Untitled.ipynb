{
 "cells": [
  {
   "cell_type": "code",
   "execution_count": 1,
   "id": "a926fc59",
   "metadata": {},
   "outputs": [],
   "source": [
    "import pandas as pd\n",
    "import numpy as np\n",
    "import matplotlib.pyplot as plt\n",
    "from sklearn.model_selection import train_test_split\n",
    "from sklearn.preprocessing import MinMaxScaler\n",
    "from sklearn.naive_bayes import GaussianNB\n",
    "from sklearn.neighbors import KNeighborsClassifier\n",
    "from sklearn.svm import SVC\n",
    "from sklearn.tree import DecisionTreeClassifier\n",
    "from sklearn.ensemble import RandomForestClassifier"
   ]
  },
  {
   "cell_type": "code",
   "execution_count": 2,
   "id": "460d78d5",
   "metadata": {},
   "outputs": [],
   "source": [
    "clsr_names=[\"Nearest Neighbors\", \"Linear SVM\",\n",
    "            \"Decision Tree\", \"Random Forest\",\n",
    "            \"Naive Bayes\"]"
   ]
  },
  {
   "cell_type": "code",
   "execution_count": 3,
   "id": "d20dbcd3",
   "metadata": {},
   "outputs": [],
   "source": [
    "classifiers = [KNeighborsClassifier(3),\n",
    "    SVC(kernel=\"linear\", C=0.025),\n",
    "    DecisionTreeClassifier(max_depth=5),\n",
    "    RandomForestClassifier(max_depth=5, n_estimators=10, max_features=1),\n",
    "    GaussianNB()]"
   ]
  },
  {
   "cell_type": "code",
   "execution_count": 4,
   "id": "7323d858",
   "metadata": {},
   "outputs": [],
   "source": [
    "df01=pd.read_csv('bank-additional.csv', sep=';',header=0)\n",
    "df02=df01.dropna(axis=1, how='all')\n",
    "df=df02.dropna(axis=0, how='any')\n",
    "cols=df.dtypes\n",
    "colnms=df.columns\n",
    "i=0\n",
    "cat_cols=[]\n",
    "for eachcol in cols:\n",
    "    if eachcol.name==\"object\":\n",
    "        cat_cols.append(colnms[i])\n",
    "    i+=1"
   ]
  },
  {
   "cell_type": "code",
   "execution_count": 5,
   "id": "eb8febba",
   "metadata": {},
   "outputs": [],
   "source": [
    "df1=pd.get_dummies(df,columns=cat_cols)\n",
    "n=len(df1.index)\n",
    "m=len(df1.columns)\n",
    "x_all=df1.iloc[:,0:(m-2)]\n",
    "y_all=df1['y_yes']"
   ]
  },
  {
   "cell_type": "code",
   "execution_count": 6,
   "id": "781181bc",
   "metadata": {},
   "outputs": [
    {
     "name": "stdout",
     "output_type": "stream",
     "text": [
      "Linear SVM accuracy: 0.889%\n",
      "Top 10 weighted variables:\n",
      "            variable    weight\n",
      "1           duration  0.192532\n",
      "6     cons.price.idx  0.082992\n",
      "50         month_mar  0.075000\n",
      "9        nr.employed -0.074419\n",
      "4           previous  0.050301\n",
      "8          euribor3m -0.042549\n",
      "54         month_sep -0.030763\n",
      "45         month_apr -0.028609\n",
      "12  job_entrepreneur -0.025000\n",
      "62  poutcome_success  0.025000\n"
     ]
    }
   ],
   "source": [
    "x_trn, x_tst, y_trn, y_tst = train_test_split(x_all, y_all, test_size=0.8, random_state=42)\n",
    "scaler = MinMaxScaler()\n",
    "scaler.fit(x_trn)\n",
    "x_trn_n=scaler.transform(x_trn)\n",
    "x_tst_n=scaler.transform(x_tst)\n",
    "clf = classifiers[1]\n",
    "model=clf.fit(x_trn_n,y_trn)\n",
    "y_pred=model.predict(x_tst_n)\n",
    "acc1=float((y_pred==y_tst).sum())/float(len(y_tst))\n",
    "print(\"Linear SVM accuracy: {0:.3f}%\".format(acc1))\n",
    "weight=model.coef_[0]\n",
    "var2wgt=pd.DataFrame(list(zip(list(df1),weight)),columns=['variable','weight'])\n",
    "var2wgt_sorted=var2wgt.reindex(var2wgt.weight.abs().sort_values(ascending=False).index)\n",
    "print(\"Top 10 weighted variables:\")\n",
    "print(var2wgt_sorted[0:10])"
   ]
  },
  {
   "cell_type": "code",
   "execution_count": 7,
   "id": "800eaa21",
   "metadata": {},
   "outputs": [
    {
     "data": {
      "text/plain": [
       "(0.0, 11.0)"
      ]
     },
     "execution_count": 7,
     "metadata": {},
     "output_type": "execute_result"
    },
    {
     "data": {
      "image/png": "[encoded data removed]",
      "text/plain": [
       "<Figure size 864x432 with 1 Axes>"
      ]
     },
     "metadata": {
      "needs_background": "light"
     },
     "output_type": "display_data"
    }
   ],
   "source": [
    "var_names=list(var2wgt_sorted['variable'][0:10])\n",
    "var_imp=list(var2wgt_sorted['weight'][0:10].abs())\n",
    "y_pos = np.arange(len(var_names),0,-1)\n",
    "fig = plt.figure(figsize=(12, 6))\n",
    "plt.subplot(1, 2, 1)\n",
    "plt.barh(y_pos, var_imp, align='center', alpha=0.5)\n",
    "plt.yticks(y_pos, var_names)\n",
    "plt.xlabel('Weight')\n",
    "plt.title('Linear SVM')\n",
    "plt.ylim(0,11)"
   ]
  },
  {
   "cell_type": "code",
   "execution_count": 8,
   "id": "680816b1",
   "metadata": {},
   "outputs": [
    {
     "name": "stdout",
     "output_type": "stream",
     "text": [
      "Random forest accuracy: 0.514%\n"
     ]
    },
    {
     "ename": "AttributeError",
     "evalue": "'GaussianNB' object has no attribute 'feature_importances_'",
     "output_type": "error",
     "traceback": [
      "\u001b[1;31m---------------------------------------------------------------------------\u001b[0m",
      "\u001b[1;31mAttributeError\u001b[0m                            Traceback (most recent call last)",
      "\u001b[1;32m<ipython-input-8-c5f3b05faf16>\u001b[0m in \u001b[0;36m<module>\u001b[1;34m\u001b[0m\n\u001b[0;32m      4\u001b[0m \u001b[0macc2\u001b[0m\u001b[1;33m=\u001b[0m\u001b[0mfloat\u001b[0m\u001b[1;33m(\u001b[0m\u001b[1;33m(\u001b[0m\u001b[0my_pred\u001b[0m\u001b[1;33m==\u001b[0m\u001b[0my_tst\u001b[0m\u001b[1;33m)\u001b[0m\u001b[1;33m.\u001b[0m\u001b[0msum\u001b[0m\u001b[1;33m(\u001b[0m\u001b[1;33m)\u001b[0m\u001b[1;33m)\u001b[0m\u001b[1;33m/\u001b[0m\u001b[0mfloat\u001b[0m\u001b[1;33m(\u001b[0m\u001b[0mlen\u001b[0m\u001b[1;33m(\u001b[0m\u001b[0my_tst\u001b[0m\u001b[1;33m)\u001b[0m\u001b[1;33m)\u001b[0m\u001b[1;33m\u001b[0m\u001b[1;33m\u001b[0m\u001b[0m\n\u001b[0;32m      5\u001b[0m \u001b[0mprint\u001b[0m\u001b[1;33m(\u001b[0m\u001b[1;34m\"Random forest accuracy: {0:.3f}%\"\u001b[0m\u001b[1;33m.\u001b[0m\u001b[0mformat\u001b[0m\u001b[1;33m(\u001b[0m\u001b[0macc2\u001b[0m\u001b[1;33m)\u001b[0m\u001b[1;33m)\u001b[0m\u001b[1;33m\u001b[0m\u001b[1;33m\u001b[0m\u001b[0m\n\u001b[1;32m----> 6\u001b[1;33m \u001b[0mimp\u001b[0m\u001b[1;33m=\u001b[0m\u001b[0mmodel\u001b[0m\u001b[1;33m.\u001b[0m\u001b[0mfeature_importances_\u001b[0m\u001b[1;33m\u001b[0m\u001b[1;33m\u001b[0m\u001b[0m\n\u001b[0m\u001b[0;32m      7\u001b[0m \u001b[0mvar2imp\u001b[0m\u001b[1;33m=\u001b[0m\u001b[0mdict\u001b[0m\u001b[1;33m(\u001b[0m\u001b[0mzip\u001b[0m\u001b[1;33m(\u001b[0m\u001b[0mlist\u001b[0m\u001b[1;33m(\u001b[0m\u001b[0mdf1\u001b[0m\u001b[1;33m)\u001b[0m\u001b[1;33m,\u001b[0m\u001b[0mimp\u001b[0m\u001b[1;33m)\u001b[0m\u001b[1;33m)\u001b[0m\u001b[1;33m\u001b[0m\u001b[1;33m\u001b[0m\u001b[0m\n\u001b[0;32m      8\u001b[0m \u001b[0mvar2imp_sorted\u001b[0m\u001b[1;33m=\u001b[0m\u001b[0mpd\u001b[0m\u001b[1;33m.\u001b[0m\u001b[0mDataFrame\u001b[0m\u001b[1;33m(\u001b[0m\u001b[0mcolumns\u001b[0m\u001b[1;33m=\u001b[0m\u001b[1;33m[\u001b[0m\u001b[1;34m'variable'\u001b[0m\u001b[1;33m,\u001b[0m\u001b[1;34m'weight'\u001b[0m\u001b[1;33m]\u001b[0m\u001b[1;33m)\u001b[0m\u001b[1;33m\u001b[0m\u001b[1;33m\u001b[0m\u001b[0m\n",
      "\u001b[1;31mAttributeError\u001b[0m: 'GaussianNB' object has no attribute 'feature_importances_'"
     ]
    }
   ],
   "source": [
    "clf=classifiers[4]\n",
    "model=clf.fit(x_trn_n,y_trn)\n",
    "y_pred=model.predict(x_tst_n)\n",
    "acc2=float((y_pred==y_tst).sum())/float(len(y_tst))\n",
    "print(\"Random forest accuracy: {0:.3f}%\".format(acc2))\n",
    "imp=model.feature_importances_\n",
    "var2imp=dict(zip(list(df1),imp))\n",
    "var2imp_sorted=pd.DataFrame(columns=['variable','weight'])\n",
    "for key in sorted(var2imp, key=lambda k:abs(var2imp[k]),reverse=True):\n",
    "    temp=pd.DataFrame([[key,var2imp[key]]],columns=['variable','weight'])\n",
    "    var2imp_sorted=var2imp_sorted.append(temp)\n",
    "print(\"Top 10 important variables:\")\n",
    "print(var2imp_sorted[0:10])"
   ]
  },
  {
   "cell_type": "code",
   "execution_count": 9,
   "id": "dd68eaa6",
   "metadata": {},
   "outputs": [
    {
     "ename": "NameError",
     "evalue": "name 'var2imp_sorted' is not defined",
     "output_type": "error",
     "traceback": [
      "\u001b[1;31m---------------------------------------------------------------------------\u001b[0m",
      "\u001b[1;31mNameError\u001b[0m                                 Traceback (most recent call last)",
      "\u001b[1;32m<ipython-input-9-e8e03b9a9c18>\u001b[0m in \u001b[0;36m<module>\u001b[1;34m\u001b[0m\n\u001b[1;32m----> 1\u001b[1;33m \u001b[0mvar_names\u001b[0m\u001b[1;33m=\u001b[0m\u001b[0mlist\u001b[0m\u001b[1;33m(\u001b[0m\u001b[0mvar2imp_sorted\u001b[0m\u001b[1;33m[\u001b[0m\u001b[1;34m'variable'\u001b[0m\u001b[1;33m]\u001b[0m\u001b[1;33m[\u001b[0m\u001b[1;36m0\u001b[0m\u001b[1;33m:\u001b[0m\u001b[1;36m10\u001b[0m\u001b[1;33m]\u001b[0m\u001b[1;33m)\u001b[0m\u001b[1;33m\u001b[0m\u001b[1;33m\u001b[0m\u001b[0m\n\u001b[0m\u001b[0;32m      2\u001b[0m \u001b[0mvar_imp\u001b[0m\u001b[1;33m=\u001b[0m\u001b[0mlist\u001b[0m\u001b[1;33m(\u001b[0m\u001b[0mvar2imp_sorted\u001b[0m\u001b[1;33m[\u001b[0m\u001b[1;34m'weight'\u001b[0m\u001b[1;33m]\u001b[0m\u001b[1;33m[\u001b[0m\u001b[1;36m0\u001b[0m\u001b[1;33m:\u001b[0m\u001b[1;36m10\u001b[0m\u001b[1;33m]\u001b[0m\u001b[1;33m)\u001b[0m\u001b[1;33m\u001b[0m\u001b[1;33m\u001b[0m\u001b[0m\n\u001b[0;32m      3\u001b[0m \u001b[0my_pos\u001b[0m \u001b[1;33m=\u001b[0m \u001b[0mnp\u001b[0m\u001b[1;33m.\u001b[0m\u001b[0marange\u001b[0m\u001b[1;33m(\u001b[0m\u001b[0mlen\u001b[0m\u001b[1;33m(\u001b[0m\u001b[0mvar_names\u001b[0m\u001b[1;33m)\u001b[0m\u001b[1;33m,\u001b[0m\u001b[1;36m0\u001b[0m\u001b[1;33m,\u001b[0m\u001b[1;33m-\u001b[0m\u001b[1;36m1\u001b[0m\u001b[1;33m)\u001b[0m\u001b[1;33m\u001b[0m\u001b[1;33m\u001b[0m\u001b[0m\n\u001b[0;32m      4\u001b[0m \u001b[0mplt\u001b[0m\u001b[1;33m.\u001b[0m\u001b[0msubplot\u001b[0m\u001b[1;33m(\u001b[0m\u001b[1;36m1\u001b[0m\u001b[1;33m,\u001b[0m \u001b[1;36m2\u001b[0m\u001b[1;33m,\u001b[0m \u001b[1;36m2\u001b[0m\u001b[1;33m)\u001b[0m\u001b[1;33m\u001b[0m\u001b[1;33m\u001b[0m\u001b[0m\n\u001b[0;32m      5\u001b[0m \u001b[0mplt\u001b[0m\u001b[1;33m.\u001b[0m\u001b[0mbarh\u001b[0m\u001b[1;33m(\u001b[0m\u001b[0my_pos\u001b[0m\u001b[1;33m,\u001b[0m \u001b[0mvar_imp\u001b[0m\u001b[1;33m,\u001b[0m \u001b[0malign\u001b[0m\u001b[1;33m=\u001b[0m\u001b[1;34m'center'\u001b[0m\u001b[1;33m,\u001b[0m \u001b[0malpha\u001b[0m\u001b[1;33m=\u001b[0m\u001b[1;36m0.5\u001b[0m\u001b[1;33m)\u001b[0m\u001b[1;33m\u001b[0m\u001b[1;33m\u001b[0m\u001b[0m\n",
      "\u001b[1;31mNameError\u001b[0m: name 'var2imp_sorted' is not defined"
     ]
    }
   ],
   "source": [
    "var_names=list(var2imp_sorted['variable'][0:10])\n",
    "var_imp=list(var2imp_sorted['weight'][0:10])\n",
    "y_pos = np.arange(len(var_names),0,-1)\n",
    "plt.subplot(1, 2, 2)\n",
    "plt.barh(y_pos, var_imp, align='center', alpha=0.5)\n",
    "plt.yticks(y_pos, var_names)\n",
    "plt.xlabel('Weight')\n",
    "plt.title('Random Forest')\n",
    "plt.ylim(0,11)\n",
    "plt.tight_layout()\n",
    "fig.savefig('plot.png',dpi=400)\n",
    "print(\"Comparing different models:\")\n",
    "for name, clf in zip(clsr_names, classifiers):\n",
    "    model=clf.fit(x_trn_n,y_trn)\n",
    "    y_pred=model.predict(x_tst_n)\n",
    "    print(name+\" Accuracy: {0:.3f}%\".format(float((y_pred==y_tst).sum())/float(len(y_tst))))"
   ]
  },
  {
   "cell_type": "code",
   "execution_count": null,
   "id": "9dcb0f4c",
   "metadata": {},
   "outputs": [],
   "source": []
  }
 ],
 "metadata": {
  "kernelspec": {
   "display_name": "Python 3",
   "language": "python",
   "name": "python3"
  },
  "language_info": {
   "codemirror_mode": {
    "name": "ipython",
    "version": 3
   },
   "file_extension": ".py",
   "mimetype": "text/x-python",
   "name": "python",
   "nbconvert_exporter": "python",
   "pygments_lexer": "ipython3",
   "version": "3.8.8"
  }
 },
 "nbformat": 4,
 "nbformat_minor": 5
}
